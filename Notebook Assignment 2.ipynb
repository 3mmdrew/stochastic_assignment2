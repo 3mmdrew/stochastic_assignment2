{
 "cells": [
  {
   "cell_type": "code",
   "execution_count": 1,
   "metadata": {},
   "outputs": [],
   "source": [
    "import simpy\n",
    "import numpy as np"
   ]
  },
  {
   "cell_type": "code",
   "execution_count": null,
   "metadata": {},
   "outputs": [],
   "source": [
    "def queue_function(env, servers, mu, waiting_times, queue):\n",
    "    \n",
    "    while True:\n",
    "\n",
    "        arrival_time = env.now\n",
    "        with queue.request() as request:\n",
    "            yield request\n",
    "            waiting_times.append(env.now - arrival_time)\n",
    "\n",
    "            service_time = np.random.exponential(1 / mu)\n",
    "            yield env.timeout(service_time)\n",
    "\n",
    "def arrivals(env, lambda, queue, servers, mu, waiting_times):\n",
    "    while True:\n",
    "        yield env.timeout(np.random.exponential(1 / lambda))\n",
    "        env.process"
   ]
  }
 ],
 "metadata": {
  "kernelspec": {
   "display_name": "base",
   "language": "python",
   "name": "python3"
  },
  "language_info": {
   "codemirror_mode": {
    "name": "ipython",
    "version": 3
   },
   "file_extension": ".py",
   "mimetype": "text/x-python",
   "name": "python",
   "nbconvert_exporter": "python",
   "pygments_lexer": "ipython3",
   "version": "3.12.4"
  }
 },
 "nbformat": 4,
 "nbformat_minor": 2
}
